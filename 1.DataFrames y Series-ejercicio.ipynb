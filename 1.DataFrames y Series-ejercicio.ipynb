{
 "cells": [
  {
   "cell_type": "markdown",
   "metadata": {},
   "source": [
    "# Importar Pandas"
   ]
  },
  {
   "cell_type": "code",
   "execution_count": 1,
   "metadata": {},
   "outputs": [],
   "source": [
    "#importa pandas\n"
   ]
  },
  {
   "cell_type": "markdown",
   "metadata": {},
   "source": [
    "# Crear una Serie"
   ]
  },
  {
   "cell_type": "markdown",
   "metadata": {},
   "source": [
    "Explore series en python en el siguiente [link](https://pandas.pydata.org/pandas-docs/stable/user_guide/10min.html) en las primeras lineas del documento"
   ]
  },
  {
   "cell_type": "code",
   "execution_count": null,
   "metadata": {
    "tags": []
   },
   "outputs": [],
   "source": [
    "\n",
    "import pandas as pd\n",
    "my_series = pd.Series([10, 20, 10])\n",
    "print(my_series)\n",
    "\n",
    "\n"
   ]
  },
  {
   "cell_type": "code",
   "execution_count": null,
   "metadata": {
    "tags": []
   },
   "outputs": [],
   "source": [
    "import pandas as pd\n",
    "color_series = pd.Series(['rojo', 'verde', 'azul'])\n",
    "print(color_series)\n",
    "\n",
    "\n"
   ]
  },
  {
   "cell_type": "markdown",
   "metadata": {},
   "source": [
    "# Crear un Dataframe"
   ]
  },
  {
   "cell_type": "code",
   "execution_count": null,
   "metadata": {
    "tags": []
   },
   "outputs": [],
   "source": [
    "import pandas as pd\n",
    "df = pd.DataFrame()\n",
    "print(df)\n"
   ]
  },
  {
   "cell_type": "code",
   "execution_count": null,
   "metadata": {
    "tags": []
   },
   "outputs": [],
   "source": [
    "import pandas as pd\n",
    "my_series = pd.Series([10, 20, 10])\n",
    "df = pd.DataFrame()\n",
    "df['Numeros'] = my_series\n",
    "print(df)\n",
    "\n"
   ]
  },
  {
   "cell_type": "code",
   "execution_count": null,
   "metadata": {
    "tags": []
   },
   "outputs": [],
   "source": [
    "# Importamos la librería pandas\n",
    "import pandas as pd\n",
    "my_series = pd.Series([10, 20, 10])\n",
    "color_series = pd.Series(['rojo', 'verde', 'azul'])\n",
    "df = pd.DataFrame()\n",
    "df['Numeros'] = my_series\n",
    "df['Colores'] = color_series\n",
    "print(df)\n"
   ]
  },
  {
   "cell_type": "markdown",
   "metadata": {},
   "source": [
    "# Leer un dataframe"
   ]
  },
  {
   "cell_type": "code",
   "execution_count": null,
   "metadata": {},
   "outputs": [],
   "source": [
    "import pandas as pd\n",
    "try:\n",
    "    avengers = pd.read_csv('data/avengers.csv')\n",
    "    print(avengers.head())\n",
    "\n",
    "except FileNotFoundError:\n",
    "    print(\"El archivo 'avengers.csv' no se encuentra en la carpeta 'data'.\")\n",
    "\n"
   ]
  },
  {
   "cell_type": "markdown",
   "metadata": {},
   "source": [
    "# Inspeccionar un dataframe"
   ]
  },
  {
   "cell_type": "code",
   "execution_count": 3,
   "metadata": {
    "tags": []
   },
   "outputs": [],
   "source": [
    "import pandas as pd\n",
    "try:\n",
    "    avengers = pd.read_csv('data/avengers.csv')\n",
    "    print(avengers.head(5))\n",
    "except FileNotFoundError:\n",
    "    print(\"El archivo 'avengers.csv' no se encuentra en la carpeta 'data'.\")\n",
    "\n",
    "\n"
   ]
  },
  {
   "cell_type": "code",
   "execution_count": 5,
   "metadata": {
    "tags": []
   },
   "outputs": [],
   "source": [
    "import pandas as pd\n",
    "try:\n",
    "    avengers = pd.read_csv('data/avengers.csv')\n",
    "    print(avengers.head(10))\n",
    "except FileNotFoundError:\n",
    "    print(\"El archivo 'avengers.csv' no se encuentra en la carpeta 'data'.\")\n",
    "\n"
   ]
  },
  {
   "cell_type": "code",
   "execution_count": 6,
   "metadata": {
    "tags": []
   },
   "outputs": [],
   "source": [
    "import pandas as pd\n",
    "try:\n",
    "    avengers = pd.read_csv('data/avengers.csv')\n",
    "    print(avengers.tail(5))\n",
    "except FileNotFoundError:\n",
    "    print(\"El archivo 'avengers.csv' no se encuentra en la carpeta 'data'.\")\n",
    "\n"
   ]
  },
  {
   "cell_type": "markdown",
   "metadata": {},
   "source": [
    "# Tamaño del DataFrame"
   ]
  },
  {
   "cell_type": "code",
   "execution_count": 7,
   "metadata": {
    "tags": []
   },
   "outputs": [],
   "source": [
    "import pandas as pd'\n",
    "try:\n",
    "    avengers = pd.read_csv('data/avengers.csv')\n",
    "    print(f\"El DataFrame tiene {avengers.shape[0]} filas y {avengers.shape[1]} columnas.\")\n",
    "except FileNotFoundError:\n",
    "    print(\"El archivo 'avengers.csv' no se encuentra en la carpeta 'data'.\")\n"
   ]
  },
  {
   "cell_type": "markdown",
   "metadata": {},
   "source": [
    "# Data types en un DataFrame"
   ]
  },
  {
   "cell_type": "code",
   "execution_count": 8,
   "metadata": {
    "tags": []
   },
   "outputs": [],
   "source": [
    "import pandas as pd\n",
    "try:\n",
    "    avengers = pd.read_csv('data/avengers.csv')\n",
    "    print(\"Tipos de datos de las columnas del DataFrame:\")\n",
    "    print(avengers.dtypes)\n",
    "except FileNotFoundError:\n",
    "    print(\"El archivo 'avengers.csv' no se encuentra en la carpeta 'data'.\")\n",
    "\n"
   ]
  },
  {
   "cell_type": "markdown",
   "metadata": {},
   "source": [
    "# Editar el indice (index)"
   ]
  },
  {
   "cell_type": "code",
   "execution_count": 9,
   "metadata": {
    "tags": []
   },
   "outputs": [],
   "source": [
    "import pandas as pd\n",
    "try:\n",
    "    avengers = pd.read_csv('data/avengers.csv')\n",
    "    avengers.set_index('fecha_inicio', inplace=True)\n",
    "    print(avengers.head(5))\n",
    "except FileNotFoundError:\n",
    "    print(\"El archivo 'avengers.csv' no se encuentra en la carpeta 'data'.\")\n",
    "except KeyError:\n",
    "    print(\"La columna 'fecha_inicio' no existe en el DataFrame.\")\n",
    "\n"
   ]
  },
  {
   "cell_type": "markdown",
   "metadata": {},
   "source": [
    "# Ordenar el indice"
   ]
  },
  {
   "cell_type": "code",
   "execution_count": 10,
   "metadata": {
    "tags": []
   },
   "outputs": [],
   "source": [
    "import pandas as pd\n",
    "try:\n",
    "    avengers = pd.read_csv('data/avengers.csv')\n",
    "    avengers.set_index('fecha_inicio', inplace=True)\n",
    "    avengers.sort_index(ascending=False, inplace=True)\n",
    "    print(avengers.head(5))\n",
    "except FileNotFoundError:\n",
    "    print(\"El archivo 'avengers.csv' no se encuentra en la carpeta 'data'.\")\n",
    "except KeyError:\n",
    "    print(\"La columna 'fecha_inicio' no existe en el DataFrame.\")\n"
   ]
  },
  {
   "cell_type": "markdown",
   "metadata": {},
   "source": [
    "# Resetear el indice"
   ]
  },
  {
   "cell_type": "code",
   "execution_count": 11,
   "metadata": {
    "tags": []
   },
   "outputs": [],
   "source": [
    "import pandas as pd\n",
    "try:\n",
    "    avengers = pd.read_csv('data/avengers.csv')\n",
    "    avengers.set_index('fecha_inicio', inplace=True)\n",
    "    avengers.sort_index(ascending=False, inplace=True)\n",
    "    avengers.reset_index(inplace=True)\n",
    "    print(avengers.head(5))\n",
    "except FileNotFoundError:\n",
    "    print(\"El archivo 'avengers.csv' no se encuentra en la carpeta 'data'.\")\n",
    "except KeyError:\n",
    "    print(\"La columna 'fecha_inicio' no existe en el DataFrame.\")\n",
    "\n",
    "\n"
   ]
  }
 ],
 "metadata": {
  "kernelspec": {
   "display_name": "Python 3 (ipykernel)",
   "language": "python",
   "name": "python3"
  },
  "language_info": {
   "codemirror_mode": {
    "name": "ipython",
    "version": 3
   },
   "file_extension": ".py",
   "mimetype": "text/x-python",
   "name": "python",
   "nbconvert_exporter": "python",
   "pygments_lexer": "ipython3",
   "version": "3.10.9"
  }
 },
 "nbformat": 4,
 "nbformat_minor": 4
}
